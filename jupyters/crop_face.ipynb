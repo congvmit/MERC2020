{
 "cells": [
  {
   "cell_type": "code",
   "execution_count": 2,
   "metadata": {},
   "outputs": [],
   "source": [
    "%load_ext autoreload\n",
    "%autoreload 2"
   ]
  },
  {
   "cell_type": "code",
   "execution_count": 4,
   "metadata": {},
   "outputs": [],
   "source": [
    "import cv2\n",
    "import numpy as np\n",
    "from PIL import Image\n",
    "\n",
    "from mtcnn.detector import detect_faces, get_net\n",
    "from mtcnn.visualization_utils import show_bboxes\n",
    "import mipkit\n",
    "import matplotlib.pyplot as plt\n",
    "import os\n",
    "import glob\n",
    "from align_faces import warp_and_crop_face"
   ]
  },
  {
   "cell_type": "code",
   "execution_count": null,
   "metadata": {},
   "outputs": [],
   "source": [
    "def crop_faces(inputs):\n",
    "    video_paths, save_dir, skip, crop_size = inputs\n",
    "    \n",
    "    # init model\n",
    "    net = get_net()\n",
    "    \n",
    "    for video_path in video_paths:\n",
    "        cap = cv2.VideoCapture(video_path)\n",
    "        total_frames = int(cap.get(cv2.CAP_PROP_FRAME_COUNT))\n",
    "        basename = os.path.basename(video_path).split('.')[0]\n",
    "        ext = os.path.basename(video_path).split('.')[1]\n",
    "        \n",
    "        if total_frames < 150:\n",
    "            skip = 5\n",
    "        \n",
    "        if total_frames < 120:\n",
    "            skip = 4\n",
    "            \n",
    "        if total_frames < 100:\n",
    "            skip = 3\n",
    "            \n",
    "        for i in range(total_frames):\n",
    "            if i % skip == 0:\n",
    "                # Write to file\n",
    "                ret, frame = cap.read()\n",
    "                cap.set(1, i+1)\n",
    "                bounding_boxes, landmarks = detect_faces(frame,\n",
    "                                                         min_face_size=50.0,\n",
    "                                                         thresholds=[0.5, 0.6, 0.7],\n",
    "                                                         nms_thresholds=[0.6, 0.6, 0.7],\n",
    "                                                         net=net)\n",
    "                for lm in landmarks:\n",
    "                    crop_face = warp_and_crop_face(frame, np.array(lm).reshape([2, 5]), \n",
    "                                       crop_size=crop_size, \n",
    "                                       default_square=True, \n",
    "                                       outer_padding=(0, 0))\n",
    "\n",
    "                    folder_to_save = os.path.join(save_dir, basename + '_' + str(total_frames))\n",
    "                    os.makedirs(folder_to_save, exist_ok=True)\n",
    "                    path_to_save = os.path.join(*[folder_to_save,  \n",
    "                                                  basename + '_' + mipkit.convert_int_to_str(i) + '.jpg'])\n",
    "                    cv2.imwrite(path_to_save, crop_face)\n",
    "\n",
    "        with open('processed_video.txt', 'a') as f:\n",
    "            f.write(video_path + '\\n')\n",
    "\n",
    "# Load training dataset\n",
    "load_dir = '/mnt/hdd4T/MERC2020/2020-1//val/*.mp4'\n",
    "video_file_path = sorted(glob.glob(load_dir))\n",
    "\n",
    "splitted_paths = mipkit.split_seq(video_file_path)\n",
    "\n",
    "len(splitted_paths)\n",
    "\n",
    "save_dir = '/mnt/hdd4T/MERC2020/2020-1/processed_data/val'\n",
    "skip = 6\n",
    "crop_size = 128, 128\n",
    "inputs = [[spl, save_dir, skip, crop_size] for spl in splitted_paths]\n",
    "\n",
    "mipkit.multiprocessing.pool_worker(target=crop_faces, inputs=inputs, num_worker=5)"
   ]
  },
  {
   "cell_type": "code",
   "execution_count": null,
   "metadata": {},
   "outputs": [],
   "source": []
  },
  {
   "cell_type": "code",
   "execution_count": null,
   "metadata": {},
   "outputs": [],
   "source": []
  },
  {
   "cell_type": "code",
   "execution_count": 29,
   "metadata": {},
   "outputs": [],
   "source": [
    "# Load training dataset\n",
    "load_dir = '/mnt/hdd4T/MERC2020/2020-1/val/*.mp4'\n",
    "video_file_path = sorted(glob.glob(load_dir))"
   ]
  },
  {
   "cell_type": "code",
   "execution_count": 30,
   "metadata": {},
   "outputs": [
    {
     "data": {
      "text/plain": [
       "5386"
      ]
     },
     "execution_count": 30,
     "metadata": {},
     "output_type": "execute_result"
    }
   ],
   "source": [
    "len(video_file_path)"
   ]
  },
  {
   "cell_type": "code",
   "execution_count": 31,
   "metadata": {},
   "outputs": [],
   "source": [
    "with open('processed_video.txt', 'r') as f:\n",
    "    processed_paths = f.readlines()\n",
    "    \n",
    "processed_paths = set(map(lambda x: x.strip().replace('//', '/').replace('\\n', '') , processed_paths))"
   ]
  },
  {
   "cell_type": "code",
   "execution_count": 32,
   "metadata": {},
   "outputs": [],
   "source": [
    "video_file_path = set(video_file_path).difference(processed_paths)"
   ]
  },
  {
   "cell_type": "code",
   "execution_count": 33,
   "metadata": {},
   "outputs": [
    {
     "data": {
      "text/plain": [
       "5224"
      ]
     },
     "execution_count": 33,
     "metadata": {},
     "output_type": "execute_result"
    }
   ],
   "source": [
    "len(video_file_path)"
   ]
  },
  {
   "cell_type": "code",
   "execution_count": null,
   "metadata": {},
   "outputs": [],
   "source": []
  }
 ],
 "metadata": {
  "kernelspec": {
   "display_name": "Python 3",
   "language": "python",
   "name": "python3"
  },
  "language_info": {
   "codemirror_mode": {
    "name": "ipython",
    "version": 3
   },
   "file_extension": ".py",
   "mimetype": "text/x-python",
   "name": "python",
   "nbconvert_exporter": "python",
   "pygments_lexer": "ipython3",
   "version": "3.8.5"
  }
 },
 "nbformat": 4,
 "nbformat_minor": 4
}
